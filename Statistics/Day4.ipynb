{
 "cells": [
  {
   "cell_type": "code",
   "execution_count": 1,
   "id": "6c73e43a",
   "metadata": {},
   "outputs": [],
   "source": [
    "## Outlier"
   ]
  },
  {
   "cell_type": "code",
   "execution_count": 2,
   "id": "eaf31d8d",
   "metadata": {},
   "outputs": [],
   "source": [
    "import numpy as np\n",
    "import matplotlib.pyplot as plt\n",
    "import seaborn as sns\n",
    "import pandas as pd"
   ]
  },
  {
   "cell_type": "code",
   "execution_count": 33,
   "id": "f89f9ab6",
   "metadata": {},
   "outputs": [],
   "source": [
    "data = [11,10,12,14,12,15,244,13,15,12,14,19,17,10,233,12,14,12,12,11,13,125,10,15,12,10,14,13,15,10]"
   ]
  },
  {
   "cell_type": "code",
   "execution_count": 34,
   "id": "8dc21289",
   "metadata": {},
   "outputs": [
    {
     "data": {
      "text/plain": [
       "<Axes: >"
      ]
     },
     "execution_count": 34,
     "metadata": {},
     "output_type": "execute_result"
    },
    {
     "data": {
      "image/png": "[encoded data removed]",
      "text/plain": [
       "<Figure size 640x480 with 1 Axes>"
      ]
     },
     "metadata": {},
     "output_type": "display_data"
    }
   ],
   "source": [
    "sns.boxplot(data)"
   ]
  },
  {
   "cell_type": "code",
   "execution_count": 35,
   "id": "f2094db7",
   "metadata": {},
   "outputs": [],
   "source": [
    "outliers = []\n",
    "def detect_outliers(data):\n",
    "    threshold = 1\n",
    "    mean = np.mean(data)\n",
    "    std = np.std(data)\n",
    "    \n",
    "    for i in data:\n",
    "        z_score = (i-mean)/std\n",
    "        if np.abs(z_score) > threshold:\n",
    "            outliers.append(i)\n",
    "    return outliers\n",
    "            "
   ]
  },
  {
   "cell_type": "code",
   "execution_count": 36,
   "id": "926e65d2",
   "metadata": {},
   "outputs": [
    {
     "data": {
      "text/plain": [
       "[244, 233, 125]"
      ]
     },
     "execution_count": 36,
     "metadata": {},
     "output_type": "execute_result"
    }
   ],
   "source": [
    "detect_outliers(data)"
   ]
  },
  {
   "cell_type": "code",
   "execution_count": 38,
   "id": "d5d38d2b",
   "metadata": {},
   "outputs": [
    {
     "data": {
      "image/png": "[encoded data removed]",
      "text/plain": [
       "<Figure size 640x480 with 1 Axes>"
      ]
     },
     "metadata": {},
     "output_type": "display_data"
    }
   ],
   "source": [
    "plt.hist(data)\n",
    "plt.show()"
   ]
  },
  {
   "cell_type": "markdown",
   "id": "f1428b76",
   "metadata": {},
   "source": [
    "## IQR Inter Qrtile Devaition\n",
    "1. sort data\n",
    "2. calculate Q1 and Q3\n",
    "3. IQR ----> Q3 = Q1\n",
    "4. Find the Lower Fence(q1 - 1.5(iqr))\n",
    "5. Find the Upper Fence(q3 + 1.5(iqr)"
   ]
  },
  {
   "cell_type": "code",
   "execution_count": 50,
   "id": "4d88936e",
   "metadata": {},
   "outputs": [],
   "source": [
    "data1 = [11,10,12,14,12,15,244,13,15,12,14,19,17,10,233,12,14,12,12,11,13,125,10,15,12,10,14,13,15,10]\n",
    "data1 = sorted(data1)\n"
   ]
  },
  {
   "cell_type": "code",
   "execution_count": 51,
   "id": "2bdc7325",
   "metadata": {},
   "outputs": [
    {
     "name": "stdout",
     "output_type": "stream",
     "text": [
      "[10, 10, 10, 10, 10, 11, 11, 12, 12, 12, 12, 12, 12, 12, 13, 13, 13, 14, 14, 14, 14, 15, 15, 15, 15, 17, 19, 125, 233, 244]\n"
     ]
    }
   ],
   "source": [
    "print(data1)"
   ]
  },
  {
   "cell_type": "code",
   "execution_count": 55,
   "id": "aa3b817e",
   "metadata": {},
   "outputs": [],
   "source": [
    "q1 , q3 = np.percentile(data1,[15,85])"
   ]
  },
  {
   "cell_type": "code",
   "execution_count": 57,
   "id": "059f3871",
   "metadata": {},
   "outputs": [
    {
     "name": "stdout",
     "output_type": "stream",
     "text": [
      "10.35 16.299999999999997\n"
     ]
    }
   ],
   "source": [
    "print(q1, q3)"
   ]
  },
  {
   "cell_type": "code",
   "execution_count": 59,
   "id": "c16c17b5",
   "metadata": {},
   "outputs": [
    {
     "data": {
      "text/plain": [
       "5.9499999999999975"
      ]
     },
     "execution_count": 59,
     "metadata": {},
     "output_type": "execute_result"
    }
   ],
   "source": [
    "iqr = q3 - q1\n",
    "iqr"
   ]
  },
  {
   "cell_type": "code",
   "execution_count": 60,
   "id": "d136d64a",
   "metadata": {},
   "outputs": [],
   "source": [
    "## Find the Lower Fence and higher Fence\n",
    "\n",
    "lower_fence = q1 - (1.5 * iqr)\n",
    "higher_fence = q3 + (1.5 * iqr)\n"
   ]
  },
  {
   "cell_type": "code",
   "execution_count": 61,
   "id": "e62125bf",
   "metadata": {},
   "outputs": [
    {
     "name": "stdout",
     "output_type": "stream",
     "text": [
      "1.4250000000000025 25.224999999999994\n"
     ]
    }
   ],
   "source": [
    "print(lower_fence,higher_fence)"
   ]
  },
  {
   "cell_type": "code",
   "execution_count": 62,
   "id": "c4be98c2",
   "metadata": {},
   "outputs": [
    {
     "data": {
      "text/plain": [
       "<Axes: >"
      ]
     },
     "execution_count": 62,
     "metadata": {},
     "output_type": "execute_result"
    },
    {
     "data": {
      "image/png": "[encoded data removed]",
      "text/plain": [
       "<Figure size 640x480 with 1 Axes>"
      ]
     },
     "metadata": {},
     "output_type": "display_data"
    }
   ],
   "source": [
    "sns.boxplot(data1)"
   ]
  },
  {
   "cell_type": "code",
   "execution_count": 65,
   "id": "a2de8c15",
   "metadata": {},
   "outputs": [],
   "source": [
    "df = []\n",
    "for i in data1:\n",
    "    if i < 1.42 and i > 25.22:\n",
    "        df.append(i)"
   ]
  },
  {
   "cell_type": "code",
   "execution_count": 66,
   "id": "9e8ad68e",
   "metadata": {},
   "outputs": [
    {
     "data": {
      "text/plain": [
       "[]"
      ]
     },
     "execution_count": 66,
     "metadata": {},
     "output_type": "execute_result"
    }
   ],
   "source": [
    "df"
   ]
  }
 ],
 "metadata": {
  "kernelspec": {
   "display_name": "Python 3 (ipykernel)",
   "language": "python",
   "name": "python3"
  },
  "language_info": {
   "codemirror_mode": {
    "name": "ipython",
    "version": 3
   },
   "file_extension": ".py",
   "mimetype": "text/x-python",
   "name": "python",
   "nbconvert_exporter": "python",
   "pygments_lexer": "ipython3",
   "version": "3.11.5"
  }
 },
 "nbformat": 4,
 "nbformat_minor": 5
}
